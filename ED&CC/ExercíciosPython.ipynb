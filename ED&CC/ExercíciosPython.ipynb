{
  "nbformat": 4,
  "nbformat_minor": 0,
  "metadata": {
    "colab": {
      "provenance": [],
      "collapsed_sections": []
    },
    "language_info": {
      "name": "python"
    },
    "kernelspec": {
      "name": "python3",
      "display_name": "Python 3"
    },
    "gpuClass": "standard"
  },
  "cells": [
    {
      "cell_type": "markdown",
      "source": [
        "1\\. Implementar duas funções:\n",
        "\n",
        "+ Uma que converta temperatura em graus *Celsius* para *Fahrenheit*.\n",
        "+ Outra que converta temperatura em graus *Fahrenheit* para *Celsius*.\n",
        "\n",
        "Lembrando que:\n",
        "\n",
        "$$F = \\frac{9}{5} \\cdot C + 32$$\n",
        "\n",
        "Solução:\n"
      ],
      "metadata": {
        "id": "8Ryfpp8cgnK3"
      }
    },
    {
      "cell_type": "code",
      "source": [
        "def celsius_fahrenheit(c=0):\n",
        "\n",
        "    # round(n, d) => arredonda n em d casas decimais\n",
        "    return round(9. * c / 5. + 32., 2)\n",
        "\n",
        "def fahrenheit_celsius(f=0):\n",
        "    \n",
        "    return round(5. * (f - 32.) / 9., 2)\n",
        "\n",
        "# Testes\n",
        "print celsius_fahrenheit(123.0)\n",
        "print fahrenheit_celsius(253.4)"
      ],
      "outputs": [
        {
          "output_type": "stream",
          "text": [
            "253.4\n",
            "123.0\n"
          ],
          "name": "stdout"
        }
      ],
      "metadata": {
        "id": "Y3W_ZG9RgnLC",
        "outputId": "10add743-2c3a-4f76-cb63-9a06659a3d6c"
      },
      "execution_count": null
    },
    {
      "cell_type": "markdown",
      "source": [
        "2\\. Implementar uma função que retorne verdadeiro se o número for primo (falso caso contrário). Testar de 1 a 100.\n",
        "\n",
        "Solução:"
      ],
      "metadata": {
        "id": "lGhBXvoYgnLJ"
      }
    },
    {
      "cell_type": "code",
      "source": [
        "# Testa se o número é primo\n",
        "def is_prime(n):\n",
        "\n",
        "    if n < 2:\n",
        "        return False\n",
        "\n",
        "    for i in range(2, n):\n",
        "        if not n % i:\n",
        "            return False\n",
        "    else:\n",
        "        return True\n",
        "\n",
        "# Para x de 1 a 100\n",
        "for x in range(1, 101):\n",
        "    if is_prime(x):\n",
        "        print x"
      ],
      "outputs": [
        {
          "output_type": "stream",
          "text": [
            "2\n",
            "3\n",
            "5\n",
            "7\n",
            "11\n",
            "13\n",
            "17\n",
            "19\n",
            "23\n",
            "29\n",
            "31\n",
            "37\n",
            "41\n",
            "43\n",
            "47\n",
            "53\n",
            "59\n",
            "61\n",
            "67\n",
            "71\n",
            "73\n",
            "79\n",
            "83\n",
            "89\n",
            "97\n"
          ],
          "name": "stdout"
        }
      ],
      "metadata": {
        "id": "7bHrakGLgnLK",
        "outputId": "ffee2111-551c-49ed-b9cc-1a04a07a89a2"
      },
      "execution_count": null
    },
    {
      "cell_type": "markdown",
      "source": [
        "3\\. Implementar uma função que receba uma lista de listas de comprimentos quaisquer e retorne uma lista de uma dimensão.\n",
        "\n",
        "Solução:"
      ],
      "metadata": {
        "id": "P2tinuHJgnLM"
      }
    },
    {
      "cell_type": "code",
      "source": [
        "def flatten(it):\n",
        "    \"\"\"\n",
        "    \"Achata\" listas...\n",
        "    \"\"\"\n",
        "\n",
        "    # Se for uma lista\n",
        "    if isinstance(it, list):\n",
        "        ls = []\n",
        "\n",
        "        # Para cada item da lista\n",
        "        for item in it:\n",
        "            # Evoca flatten() recursivamente\n",
        "            ls = ls + flatten(item)\n",
        "        return ls\n",
        "\n",
        "    else:\n",
        "        return [it]\n",
        "\n",
        "# Teste\n",
        "l = [[1, [2]], [3, 4], [[5, 6], 7]]\n",
        "print flatten(l)\n",
        "\n",
        "# imprime: [1, 2, 3, 4, 5, 6, 7]"
      ],
      "outputs": [
        {
          "output_type": "stream",
          "text": [
            "[1, 2, 3, 4, 5, 6, 7]\n"
          ],
          "name": "stdout"
        }
      ],
      "metadata": {
        "id": "Hz08gVkegnLP",
        "outputId": "efa13703-88db-4bfb-e58c-f36d8e2e9a4b"
      },
      "execution_count": null
    },
    {
      "cell_type": "markdown",
      "source": [
        "4\\. Implementar uma função que receba um dicionário e retorne a soma, a média e a variação dos valores.\n",
        "\n",
        "Solução:"
      ],
      "metadata": {
        "id": "UnZbdQ8egnLR"
      }
    },
    {
      "cell_type": "code",
      "source": [
        "def stat(dic):\n",
        "\n",
        "    # Soma\n",
        "    s = sum(dic.values())\n",
        "\n",
        "    # Média\n",
        "    med = s / len(dic.values())\n",
        "\n",
        "    # Variação\n",
        "    var = max(dic.values()) - min(dic.values())\n",
        "\n",
        "    return s, med, var"
      ],
      "outputs": [],
      "metadata": {
        "id": "VH0Oeh92gnLT"
      },
      "execution_count": null
    },
    {
      "cell_type": "markdown",
      "source": [
        "5\\. Escreva uma função que:\n",
        "\n",
        "+ Receba uma frase como parâmetro.\n",
        "+ Retorne uma nova frase com cada palavra com as letras invertidas.\n",
        "\n",
        "Solução:"
      ],
      "metadata": {
        "id": "YOTwZE-LgnLU"
      }
    },
    {
      "cell_type": "code",
      "source": [
        "def reverse1(t):\n",
        "    \"\"\"\n",
        "    Usando um loop convencional.\n",
        "    \"\"\"\n",
        "\n",
        "    r = t.split()\n",
        "    for i in xrange(len(r)):\n",
        "        r[i] = r[i][::-1]\n",
        "    return ' '.join(r)\n",
        "\n",
        "def reverse2(t):\n",
        "    \"\"\"\n",
        "    Usando Generator Expression.\n",
        "    \"\"\"\n",
        "\n",
        "    return ' '.join(s[::-1] for s in t.split())\n",
        "\n",
        "# Testes\n",
        "f = 'The quick brown fox jumps over the lazy dog'\n",
        "print reverse1(f)\n",
        "print reverse2(f)\n",
        "# mostra: \"ehT kciuq nworb xof spmuj revo eht yzal god\""
      ],
      "outputs": [
        {
          "output_type": "stream",
          "text": [
            "ehT kciuq nworb xof spmuj revo eht yzal god\n",
            "ehT kciuq nworb xof spmuj revo eht yzal god\n"
          ],
          "name": "stdout"
        }
      ],
      "metadata": {
        "id": "4fEJ0nt5gnLW",
        "outputId": "73985729-216a-4710-93fc-8c12c5529fa0"
      },
      "execution_count": null
    },
    {
      "cell_type": "markdown",
      "source": [
        "6\\. Crie uma função que:\n",
        "\n",
        "+ Receba uma lista de tuplas (dados), um inteiro (chave, zero por padrão igual) e um booleano (reverso, falso por padrão).\n",
        "+ Retorne dados ordenados pelo item indicado pela chave e em ordem decrescente se reverso for verdadeiro.\n",
        "\n",
        "Solução:"
      ],
      "metadata": {
        "id": "z_NpbA6pgnLY"
      }
    },
    {
      "cell_type": "code",
      "source": [
        "def ord_tab(dados, chave=0, reverso=False):\n",
        "\n",
        "    # Rotina para comparar as tuplas em sort()\n",
        "    def _ord(x, y):\n",
        "\n",
        "        return x[chave] - y[chave]\n",
        "\n",
        "    dados.sort(_ord, reverse=reverso)\n",
        "\n",
        "    return dados\n",
        "\n",
        "# Testes\n",
        "t = [(1, 2, 0), (3, 1, 5), (0, 3, 3)]\n",
        "print ord_tab(t)\n",
        "print ord_tab(t, 1)\n",
        "print ord_tab(t, 2)\n",
        "\n",
        "# Mostra:\n",
        "# [(0, 3, 3), (1, 2, 0), (3, 1, 5)]\n",
        "# [(3, 1, 5), (1, 2, 0), (0, 3, 3)]\n",
        "# [(1, 2, 0), (0, 3, 3), (3, 1, 5)]"
      ],
      "outputs": [
        {
          "output_type": "stream",
          "text": [
            "[(0, 3, 3), (1, 2, 0), (3, 1, 5)]\n",
            "[(3, 1, 5), (1, 2, 0), (0, 3, 3)]\n",
            "[(1, 2, 0), (0, 3, 3), (3, 1, 5)]\n"
          ],
          "name": "stdout"
        }
      ],
      "metadata": {
        "id": "0pSNsMxtgnLd",
        "outputId": "3bc87132-d502-4ad4-ff51-5eb956413a6b"
      },
      "execution_count": null
    }
  ]
}